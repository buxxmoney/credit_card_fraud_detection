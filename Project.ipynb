{
  "nbformat": 4,
  "nbformat_minor": 0,
  "metadata": {
    "colab": {
      "provenance": []
    },
    "kernelspec": {
      "name": "python3",
      "display_name": "Python 3"
    },
    "language_info": {
      "name": "python"
    }
  },
  "cells": [
    {
      "cell_type": "markdown",
      "source": [
        "**Step 1: Import all the Libraries**\n",
        "\n"
      ],
      "metadata": {
        "id": "_duvg6f3cBYN"
      }
    },
    {
      "cell_type": "code",
      "execution_count": null,
      "metadata": {
        "id": "U9lEhWCUZ2TR"
      },
      "outputs": [],
      "source": [
        "# Essential Libraries\n",
        "import pandas as pd\n",
        "import numpy as np\n",
        "\n",
        "# Visualization Libraries\n",
        "import matplotlib.pyplot as plt\n",
        "import seaborn as sns\n",
        "\n",
        "# Scikit-Learn Libraries\n",
        "from sklearn.model_selection import train_test_split\n",
        "from sklearn.preprocessing import StandardScaler\n",
        "from sklearn.metrics import classification_report, confusion_matrix, roc_auc_score\n",
        "\n",
        "# Machine Learning Models\n",
        "from sklearn.linear_model import LogisticRegression\n",
        "from sklearn.ensemble import RandomForestClassifier\n",
        "from xgboost import XGBClassifier\n",
        "\n",
        "# SMOTE for class imbalance\n",
        "from imblearn.over_sampling import SMOTE"
      ]
    },
    {
      "cell_type": "markdown",
      "source": [
        "**Step 2: Load and Explore Dataset**"
      ],
      "metadata": {
        "id": "vLbevVtWcQ2e"
      }
    },
    {
      "cell_type": "code",
      "source": [
        "# Load the dataset\n",
        "df = pd.read_csv('creditcard.csv')\n",
        "\n",
        "# Check the dataset shape and initial rows\n",
        "print(\"Dataset Shape:\", df.shape)\n",
        "print(\"First 5 Rows:\")\n",
        "print(df.head())\n",
        "\n",
        "# Check for missing values\n",
        "print(\"\\nMissing Values:\")\n",
        "print(df.isnull().sum())"
      ],
      "metadata": {
        "colab": {
          "base_uri": "https://localhost:8080/"
        },
        "id": "BZB9hbVLayHi",
        "outputId": "27c53d79-216c-4fba-d84c-82f9d056b9e3"
      },
      "execution_count": null,
      "outputs": [
        {
          "output_type": "stream",
          "name": "stdout",
          "text": [
            "Dataset Shape: (284807, 31)\n",
            "First 5 Rows:\n",
            "   Time        V1        V2        V3        V4        V5        V6        V7  \\\n",
            "0   0.0 -1.359807 -0.072781  2.536347  1.378155 -0.338321  0.462388  0.239599   \n",
            "1   0.0  1.191857  0.266151  0.166480  0.448154  0.060018 -0.082361 -0.078803   \n",
            "2   1.0 -1.358354 -1.340163  1.773209  0.379780 -0.503198  1.800499  0.791461   \n",
            "3   1.0 -0.966272 -0.185226  1.792993 -0.863291 -0.010309  1.247203  0.237609   \n",
            "4   2.0 -1.158233  0.877737  1.548718  0.403034 -0.407193  0.095921  0.592941   \n",
            "\n",
            "         V8        V9  ...       V21       V22       V23       V24       V25  \\\n",
            "0  0.098698  0.363787  ... -0.018307  0.277838 -0.110474  0.066928  0.128539   \n",
            "1  0.085102 -0.255425  ... -0.225775 -0.638672  0.101288 -0.339846  0.167170   \n",
            "2  0.247676 -1.514654  ...  0.247998  0.771679  0.909412 -0.689281 -0.327642   \n",
            "3  0.377436 -1.387024  ... -0.108300  0.005274 -0.190321 -1.175575  0.647376   \n",
            "4 -0.270533  0.817739  ... -0.009431  0.798278 -0.137458  0.141267 -0.206010   \n",
            "\n",
            "        V26       V27       V28  Amount  Class  \n",
            "0 -0.189115  0.133558 -0.021053  149.62      0  \n",
            "1  0.125895 -0.008983  0.014724    2.69      0  \n",
            "2 -0.139097 -0.055353 -0.059752  378.66      0  \n",
            "3 -0.221929  0.062723  0.061458  123.50      0  \n",
            "4  0.502292  0.219422  0.215153   69.99      0  \n",
            "\n",
            "[5 rows x 31 columns]\n",
            "\n",
            "Missing Values:\n",
            "Time      0\n",
            "V1        0\n",
            "V2        0\n",
            "V3        0\n",
            "V4        0\n",
            "V5        0\n",
            "V6        0\n",
            "V7        0\n",
            "V8        0\n",
            "V9        0\n",
            "V10       0\n",
            "V11       0\n",
            "V12       0\n",
            "V13       0\n",
            "V14       0\n",
            "V15       0\n",
            "V16       0\n",
            "V17       0\n",
            "V18       0\n",
            "V19       0\n",
            "V20       0\n",
            "V21       0\n",
            "V22       0\n",
            "V23       0\n",
            "V24       0\n",
            "V25       0\n",
            "V26       0\n",
            "V27       0\n",
            "V28       0\n",
            "Amount    0\n",
            "Class     0\n",
            "dtype: int64\n"
          ]
        }
      ]
    },
    {
      "cell_type": "markdown",
      "source": [
        "2.1 Visualization of Class Imbalance.\n",
        "\n",
        "Fraudulent transactions are rare in this dataset, so let’s visualize the class distribution:\n"
      ],
      "metadata": {
        "id": "1sNCL_7ccYzH"
      }
    },
    {
      "cell_type": "code",
      "source": [
        "# Count and visualize class distribution\n",
        "print(\"\\nClass Distribution:\\n\", df['Class'].value_counts())\n",
        "\n",
        "sns.countplot(data=df, x='Class')\n",
        "plt.title(\"Class Distribution (0 = Non-Fraud, 1 = Fraud)\")\n",
        "plt.show()"
      ],
      "metadata": {
        "colab": {
          "base_uri": "https://localhost:8080/",
          "height": 576
        },
        "id": "PqGthD8BbFIO",
        "outputId": "58b0891f-346b-4d67-8601-3c8ad17ff699"
      },
      "execution_count": null,
      "outputs": [
        {
          "output_type": "stream",
          "name": "stdout",
          "text": [
            "\n",
            "Class Distribution:\n",
            " Class\n",
            "0    284315\n",
            "1       492\n",
            "Name: count, dtype: int64\n"
          ]
        },
        {
          "output_type": "display_data",
          "data": {
            "text/plain": [
              "<Figure size 640x480 with 1 Axes>"
            ],
            "image/png": "[encoded data removed]"
          },
          "metadata": {}
        }
      ]
    },
    {
      "cell_type": "markdown",
      "source": [
        "Conclusion:\n",
        "\n",
        "the dataset is highly imbalanced, with Class 1 (fraudulent transactions) having only 492 instances compared to Class 0 (non-fraudulent transactions) at 284,315 instances.\n",
        "\n",
        "This imbalance (~0.17% fraud cases) is typical for real-world fraud detection problems and will influence the following decisions:"
      ],
      "metadata": {
        "id": "JX4hT6s6dE2l"
      }
    },
    {
      "cell_type": "markdown",
      "source": [
        "\n",
        "**Step 3: Preprocessing**\n",
        "\n",
        "\n"
      ],
      "metadata": {
        "id": "cZetZ73LdvY9"
      }
    },
    {
      "cell_type": "markdown",
      "source": [
        "3.1 Scale the Features\n",
        "Scale the Amount and Time columns since they have different ranges from other features."
      ],
      "metadata": {
        "id": "wUhq3Si2d8N_"
      }
    },
    {
      "cell_type": "code",
      "source": [
        "from sklearn.preprocessing import StandardScaler\n",
        "\n",
        "# Create scaled versions of 'Amount' and 'Time'\n",
        "scaler = StandardScaler()\n",
        "df['Scaled_Amount'] = scaler.fit_transform(df['Amount'].values.reshape(-1, 1))\n",
        "df['Scaled_Time'] = scaler.fit_transform(df['Time'].values.reshape(-1, 1))\n",
        "\n",
        "# Drop the original 'Amount' and 'Time' columns\n",
        "df = df.drop(['Amount', 'Time'], axis=1)\n",
        "print(df.head())"
      ],
      "metadata": {
        "colab": {
          "base_uri": "https://localhost:8080/"
        },
        "id": "QRkr0YureMq4",
        "outputId": "510a0388-4547-42f6-b7a0-e42acbd36a21"
      },
      "execution_count": null,
      "outputs": [
        {
          "output_type": "stream",
          "name": "stdout",
          "text": [
            "         V1        V2        V3        V4        V5        V6        V7  \\\n",
            "0 -1.359807 -0.072781  2.536347  1.378155 -0.338321  0.462388  0.239599   \n",
            "1  1.191857  0.266151  0.166480  0.448154  0.060018 -0.082361 -0.078803   \n",
            "2 -1.358354 -1.340163  1.773209  0.379780 -0.503198  1.800499  0.791461   \n",
            "3 -0.966272 -0.185226  1.792993 -0.863291 -0.010309  1.247203  0.237609   \n",
            "4 -1.158233  0.877737  1.548718  0.403034 -0.407193  0.095921  0.592941   \n",
            "\n",
            "         V8        V9       V10  ...       V22       V23       V24       V25  \\\n",
            "0  0.098698  0.363787  0.090794  ...  0.277838 -0.110474  0.066928  0.128539   \n",
            "1  0.085102 -0.255425 -0.166974  ... -0.638672  0.101288 -0.339846  0.167170   \n",
            "2  0.247676 -1.514654  0.207643  ...  0.771679  0.909412 -0.689281 -0.327642   \n",
            "3  0.377436 -1.387024 -0.054952  ...  0.005274 -0.190321 -1.175575  0.647376   \n",
            "4 -0.270533  0.817739  0.753074  ...  0.798278 -0.137458  0.141267 -0.206010   \n",
            "\n",
            "        V26       V27       V28  Class  Scaled_Amount  Scaled_Time  \n",
            "0 -0.189115  0.133558 -0.021053      0       0.244964    -1.996583  \n",
            "1  0.125895 -0.008983  0.014724      0      -0.342475    -1.996583  \n",
            "2 -0.139097 -0.055353 -0.059752      0       1.160686    -1.996562  \n",
            "3 -0.221929  0.062723  0.061458      0       0.140534    -1.996562  \n",
            "4  0.502292  0.219422  0.215153      0      -0.073403    -1.996541  \n",
            "\n",
            "[5 rows x 31 columns]\n"
          ]
        }
      ]
    },
    {
      "cell_type": "markdown",
      "source": [
        "3.2 Split the Dataset\n",
        "We’ll split the dataset into:\n",
        "\n",
        "Train-and-Validate Set (80% of data) for training and hyperparameter tuning.\n",
        "Test Set (20% of data) for final evaluation.\n",
        "From the Train-and-Validate Set, we’ll further split:\n",
        "\n",
        "Training Set: 75% of Train-and-Validate.\n",
        "Validation Set: 25% of Train-and-Validate."
      ],
      "metadata": {
        "id": "V5fj52YGfbVz"
      }
    },
    {
      "cell_type": "code",
      "source": [
        "from sklearn.model_selection import train_test_split\n",
        "\n",
        "# Features and target variable\n",
        "X = df.drop('Class', axis=1)\n",
        "y = df['Class']\n",
        "\n",
        "# Step 1: Split into Train-and-Validate and Test sets\n",
        "X_train_validate, X_test, y_train_validate, y_test = train_test_split(\n",
        "    X, y, test_size=0.2, stratify=y, random_state=42\n",
        ")\n",
        "\n",
        "# Step 2: Split Train-and-Validate into Training and Validation sets\n",
        "X_train, X_validate, y_train, y_validate = train_test_split(\n",
        "    X_train_validate, y_train_validate, test_size=0.25, stratify=y_train_validate, random_state=42\n",
        ")\n",
        "\n",
        "# Check the class distribution in each split\n",
        "def check_class_distribution(y, label):\n",
        "    print(f\"{label} Set Class Distribution:\")\n",
        "    print(pd.Series(y).value_counts(normalize=True))\n",
        "\n",
        "check_class_distribution(y_train, \"Training\")\n",
        "check_class_distribution(y_validate, \"Validation\")\n",
        "check_class_distribution(y_test, \"Test\")"
      ],
      "metadata": {
        "colab": {
          "base_uri": "https://localhost:8080/"
        },
        "id": "Q5VkHdUYffM7",
        "outputId": "cbace2dd-c2bd-4942-8b59-1e37683ac0cc"
      },
      "execution_count": null,
      "outputs": [
        {
          "output_type": "stream",
          "name": "stdout",
          "text": [
            "Training Set Class Distribution:\n",
            "Class\n",
            "0    0.998274\n",
            "1    0.001726\n",
            "Name: proportion, dtype: float64\n",
            "Validation Set Class Distribution:\n",
            "Class\n",
            "0    0.998262\n",
            "1    0.001738\n",
            "Name: proportion, dtype: float64\n",
            "Test Set Class Distribution:\n",
            "Class\n",
            "0    0.99828\n",
            "1    0.00172\n",
            "Name: proportion, dtype: float64\n"
          ]
        }
      ]
    },
    {
      "cell_type": "markdown",
      "source": [
        "3.3 Handle Class Imbalance with SMOTE\n",
        "\n",
        "Apply SMOTE to the Training Set to oversample the minority class (fraudulent transactions)."
      ],
      "metadata": {
        "id": "b9LNYWxwldP-"
      }
    },
    {
      "cell_type": "code",
      "source": [
        "from imblearn.over_sampling import SMOTE\n",
        "\n",
        "# Apply SMOTE to the Training Set\n",
        "smote = SMOTE(random_state=42)\n",
        "X_train_smote, y_train_smote = smote.fit_resample(X_train, y_train)\n",
        "\n",
        "# Check the class distribution after SMOTE\n",
        "print(\"Class Distribution After SMOTE:\\n\", pd.Series(y_train_smote).value_counts())"
      ],
      "metadata": {
        "colab": {
          "base_uri": "https://localhost:8080/"
        },
        "id": "RWDu15xAlhJy",
        "outputId": "9680a6da-87f9-4e7a-b6ce-ecb67d3d491d"
      },
      "execution_count": null,
      "outputs": [
        {
          "output_type": "stream",
          "name": "stdout",
          "text": [
            "Class Distribution After SMOTE:\n",
            " Class\n",
            "0    170588\n",
            "1    170588\n",
            "Name: count, dtype: int64\n"
          ]
        }
      ]
    },
    {
      "cell_type": "markdown",
      "source": [
        "**Step 4: Train and Evaluate Models**\n",
        "\n",
        "\n",
        "We'll start by training a Logistic Regression model as a baseline. Then, we'll train Random Forest and XGBoost models to compare their performance."
      ],
      "metadata": {
        "id": "Ol41FrNqmexq"
      }
    },
    {
      "cell_type": "markdown",
      "source": [
        "4.1 Logistic Regression\n",
        "\n",
        "\n",
        "Logistic Regression is a simple and interpretable model that acts as a baseline for comparison"
      ],
      "metadata": {
        "id": "5IU---7bmtYO"
      }
    },
    {
      "cell_type": "code",
      "source": [
        "# Train Logistic Regression\n",
        "log_reg = LogisticRegression(class_weight='balanced', random_state=42)\n",
        "log_reg.fit(X_train_smote, y_train_smote)\n",
        "\n",
        "# Validate Logistic Regression\n",
        "y_validate_pred_lr = log_reg.predict(X_validate)\n",
        "\n",
        "# Evaluate Logistic Regression\n",
        "print(\"Logistic Regression Validation Report:\\n\", classification_report(y_validate, y_validate_pred_lr))\n",
        "\n",
        "# Calculate ROC-AUC Score\n",
        "y_validate_proba_lr = log_reg.predict_proba(X_validate)[:, 1]\n",
        "roc_auc_lr = roc_auc_score(y_validate, y_validate_proba_lr)\n",
        "print(\"Logistic Regression ROC-AUC Score:\", roc_auc_lr)"
      ],
      "metadata": {
        "colab": {
          "base_uri": "https://localhost:8080/"
        },
        "id": "iaKijlgem72t",
        "outputId": "7094c342-862d-41b3-e616-faaea2af7aee"
      },
      "execution_count": null,
      "outputs": [
        {
          "output_type": "stream",
          "name": "stdout",
          "text": [
            "Logistic Regression Validation Report:\n",
            "               precision    recall  f1-score   support\n",
            "\n",
            "           0       1.00      0.97      0.99     56863\n",
            "           1       0.06      0.88      0.11        99\n",
            "\n",
            "    accuracy                           0.97     56962\n",
            "   macro avg       0.53      0.93      0.55     56962\n",
            "weighted avg       1.00      0.97      0.99     56962\n",
            "\n",
            "Logistic Regression ROC-AUC Score: 0.9718025088476876\n"
          ]
        }
      ]
    },
    {
      "cell_type": "markdown",
      "source": [
        "4.2 Random Forest\n",
        "\n",
        "\n",
        "Random Forest is a robust model that handles non-linear patterns and provides feature importance insights."
      ],
      "metadata": {
        "id": "KQwPozt-ncof"
      }
    },
    {
      "cell_type": "code",
      "source": [
        "# Train Random Forest\n",
        "rf = RandomForestClassifier(n_estimators=100, max_depth=10, class_weight='balanced', random_state=42)\n",
        "rf.fit(X_train_smote, y_train_smote)\n",
        "\n",
        "# Validate Random Forest\n",
        "y_validate_pred_rf = rf.predict(X_validate)\n",
        "\n",
        "# Evaluate Random Forest\n",
        "print(\"Random Forest Validation Report:\\n\", classification_report(y_validate, y_validate_pred_rf))\n",
        "\n",
        "# Calculate ROC-AUC Score\n",
        "y_validate_proba_rf = rf.predict_proba(X_validate)[:, 1]\n",
        "roc_auc_rf = roc_auc_score(y_validate, y_validate_proba_rf)\n",
        "print(\"Random Forest ROC-AUC Score:\", roc_auc_rf)"
      ],
      "metadata": {
        "colab": {
          "base_uri": "https://localhost:8080/"
        },
        "id": "uSWHDvXFnrKl",
        "outputId": "fdeaa662-d5c1-4afa-b27c-0479bcce7db5"
      },
      "execution_count": null,
      "outputs": [
        {
          "output_type": "stream",
          "name": "stdout",
          "text": [
            "Random Forest Validation Report:\n",
            "               precision    recall  f1-score   support\n",
            "\n",
            "           0       1.00      1.00      1.00     56863\n",
            "           1       0.45      0.80      0.58        99\n",
            "\n",
            "    accuracy                           1.00     56962\n",
            "   macro avg       0.73      0.90      0.79     56962\n",
            "weighted avg       1.00      1.00      1.00     56962\n",
            "\n",
            "Random Forest ROC-AUC Score: 0.9762864385905731\n"
          ]
        }
      ]
    },
    {
      "cell_type": "markdown",
      "source": [
        "4.3 XGBoost\n",
        "\n",
        "\n",
        "XGBoost is a high-performing gradient boosting algorithm that handles class imbalance well with the scale_pos_weight parameter"
      ],
      "metadata": {
        "id": "0NSDXkCipUdU"
      }
    },
    {
      "cell_type": "code",
      "source": [
        "# Train XGBoost\n",
        "xgb = XGBClassifier(scale_pos_weight=10, learning_rate=0.1, max_depth=6, random_state=42)\n",
        "xgb.fit(X_train_smote, y_train_smote)\n",
        "\n",
        "# Validate XGBoost\n",
        "y_validate_pred_xgb = xgb.predict(X_validate)\n",
        "\n",
        "# Evaluate XGBoost\n",
        "print(\"XGBoost Validation Report:\\n\", classification_report(y_validate, y_validate_pred_xgb))\n",
        "\n",
        "# Calculate ROC-AUC Score\n",
        "y_validate_proba_xgb = xgb.predict_proba(X_validate)[:, 1]\n",
        "roc_auc_xgb = roc_auc_score(y_validate, y_validate_proba_xgb)\n",
        "print(\"XGBoost ROC-AUC Score:\", roc_auc_xgb)"
      ],
      "metadata": {
        "colab": {
          "base_uri": "https://localhost:8080/"
        },
        "id": "1dBrrDg3pdJ3",
        "outputId": "34aeed45-5344-4e87-e6b4-2d6a594897e5"
      },
      "execution_count": null,
      "outputs": [
        {
          "output_type": "stream",
          "name": "stdout",
          "text": [
            "XGBoost Validation Report:\n",
            "               precision    recall  f1-score   support\n",
            "\n",
            "           0       1.00      1.00      1.00     56863\n",
            "           1       0.22      0.80      0.35        99\n",
            "\n",
            "    accuracy                           0.99     56962\n",
            "   macro avg       0.61      0.90      0.67     56962\n",
            "weighted avg       1.00      0.99      1.00     56962\n",
            "\n",
            "XGBoost ROC-AUC Score: 0.9659564535494403\n"
          ]
        }
      ]
    },
    {
      "cell_type": "code",
      "source": [
        "# Logistic Regression\n",
        "log_reg = LogisticRegression(class_weight='balanced', random_state=42)\n",
        "log_reg.fit(X_train, y_train)\n",
        "\n",
        "# Validate Logistic Regression\n",
        "y_validate_pred_lr = log_reg.predict(X_validate)\n",
        "\n",
        "# Evaluate Logistic Regression\n",
        "print(\"Logistic Regression Validation Report (No SMOTE):\\n\", classification_report(y_validate, y_validate_pred_lr))\n",
        "\n",
        "# ROC-AUC Score\n",
        "y_validate_proba_lr = log_reg.predict_proba(X_validate)[:, 1]\n",
        "roc_auc_lr = roc_auc_score(y_validate, y_validate_proba_lr)\n",
        "print(\"Logistic Regression ROC-AUC Score (No SMOTE):\", roc_auc_lr)"
      ],
      "metadata": {
        "colab": {
          "base_uri": "https://localhost:8080/"
        },
        "id": "PZDgdl10rd4l",
        "outputId": "746493cb-f5b4-43f5-fe76-fc8b7c0feb97"
      },
      "execution_count": null,
      "outputs": [
        {
          "output_type": "stream",
          "name": "stdout",
          "text": [
            "Logistic Regression Validation Report (No SMOTE):\n",
            "               precision    recall  f1-score   support\n",
            "\n",
            "           0       1.00      0.98      0.99     56863\n",
            "           1       0.06      0.90      0.11        99\n",
            "\n",
            "    accuracy                           0.97     56962\n",
            "   macro avg       0.53      0.94      0.55     56962\n",
            "weighted avg       1.00      0.97      0.99     56962\n",
            "\n",
            "Logistic Regression ROC-AUC Score (No SMOTE): 0.9746129142221505\n"
          ]
        }
      ]
    },
    {
      "cell_type": "code",
      "source": [
        "# Random Forest\n",
        "rf = RandomForestClassifier(n_estimators=100, max_depth=10, class_weight='balanced', random_state=42)\n",
        "rf.fit(X_train, y_train)\n",
        "\n",
        "# Validate Random Forest\n",
        "y_validate_pred_rf = rf.predict(X_validate)\n",
        "\n",
        "# Evaluate Random Forest\n",
        "print(\"Random Forest Validation Report (No SMOTE):\\n\", classification_report(y_validate, y_validate_pred_rf))\n",
        "\n",
        "# ROC-AUC Score\n",
        "y_validate_proba_rf = rf.predict_proba(X_validate)[:, 1]\n",
        "roc_auc_rf = roc_auc_score(y_validate, y_validate_proba_rf)\n",
        "print(\"Random Forest ROC-AUC Score (No SMOTE):\", roc_auc_rf)"
      ],
      "metadata": {
        "colab": {
          "base_uri": "https://localhost:8080/"
        },
        "id": "uwzjRg5VreFB",
        "outputId": "be1c29a4-f0a2-4274-9f70-a8493a56ebce"
      },
      "execution_count": null,
      "outputs": [
        {
          "output_type": "stream",
          "name": "stdout",
          "text": [
            "Random Forest Validation Report (No SMOTE):\n",
            "               precision    recall  f1-score   support\n",
            "\n",
            "           0       1.00      1.00      1.00     56863\n",
            "           1       0.87      0.76      0.81        99\n",
            "\n",
            "    accuracy                           1.00     56962\n",
            "   macro avg       0.94      0.88      0.91     56962\n",
            "weighted avg       1.00      1.00      1.00     56962\n",
            "\n",
            "Random Forest ROC-AUC Score (No SMOTE): 0.9707846450719672\n"
          ]
        }
      ]
    },
    {
      "cell_type": "code",
      "source": [
        "# XGBoost\n",
        "xgb_no_smote = XGBClassifier(scale_pos_weight=577, learning_rate=0.1, max_depth=6, random_state=42)\n",
        "xgb_no_smote.fit(X_train, y_train)\n",
        "\n",
        "# Validate XGBoost\n",
        "y_validate_pred_xgb = xgb_no_smote.predict(X_validate)\n",
        "\n",
        "# Evaluate XGBoost\n",
        "print(\"XGBoost Validation Report (No SMOTE):\\n\", classification_report(y_validate, y_validate_pred_xgb))\n",
        "\n",
        "# ROC-AUC Score\n",
        "y_validate_proba_xgb = xgb_no_smote.predict_proba(X_validate)[:, 1]\n",
        "roc_auc_xgb = roc_auc_score(y_validate, y_validate_proba_xgb)\n",
        "print(\"XGBoost ROC-AUC Score (No SMOTE):\", roc_auc_xgb)"
      ],
      "metadata": {
        "colab": {
          "base_uri": "https://localhost:8080/"
        },
        "id": "iAEERHOLrePA",
        "outputId": "58de300e-abe0-4254-e242-e4e8d18858e2"
      },
      "execution_count": null,
      "outputs": [
        {
          "output_type": "stream",
          "name": "stdout",
          "text": [
            "XGBoost Validation Report (No SMOTE):\n",
            "               precision    recall  f1-score   support\n",
            "\n",
            "           0       1.00      1.00      1.00     56863\n",
            "           1       0.83      0.78      0.80        99\n",
            "\n",
            "    accuracy                           1.00     56962\n",
            "   macro avg       0.91      0.89      0.90     56962\n",
            "weighted avg       1.00      1.00      1.00     56962\n",
            "\n",
            "XGBoost ROC-AUC Score (No SMOTE): 0.9696522050073569\n"
          ]
        }
      ]
    },
    {
      "cell_type": "code",
      "source": [
        "# Predictions on the Test Set\n",
        "y_test_pred_rf = rf.predict(X_test)\n",
        "y_test_proba_rf = rf.predict_proba(X_test)[:, 1]\n",
        "\n",
        "# Test Set Classification Report\n",
        "print(\"Random Forest Test Set Classification Report:\\n\", classification_report(y_test, y_test_pred_rf))\n",
        "\n",
        "# Test Set ROC-AUC Score\n",
        "roc_auc_test_rf = roc_auc_score(y_test, y_test_proba_rf)\n",
        "print(\"Random Forest Test Set ROC-AUC Score:\", roc_auc_test_rf)\n",
        "\n",
        "# Confusion Matrix\n",
        "conf_matrix = confusion_matrix(y_test, y_test_pred_rf)\n",
        "sns.heatmap(conf_matrix, annot=True, fmt='d', cmap='Blues', xticklabels=['Non-Fraud', 'Fraud'], yticklabels=['Non-Fraud', 'Fraud'])\n",
        "plt.title(\"Confusion Matrix\")\n",
        "plt.xlabel(\"Predicted\")\n",
        "plt.ylabel(\"Actual\")\n",
        "plt.show()\n",
        "\n",
        "# ROC Curve\n",
        "fpr, tpr, _ = roc_curve(y_test, y_test_proba_rf)\n",
        "plt.plot(fpr, tpr, label=f\"AUC = {roc_auc_test_rf:.2f}\")\n",
        "plt.title(\"ROC Curve\")\n",
        "plt.xlabel(\"False Positive Rate\")\n",
        "plt.ylabel(\"True Positive Rate\")\n",
        "plt.legend()\n",
        "plt.show()\n"
      ],
      "metadata": {
        "colab": {
          "base_uri": "https://localhost:8080/",
          "height": 1000
        },
        "id": "lZmtnd_9omsT",
        "outputId": "a856e1fe-01fc-4e2f-e290-6addb7846eae"
      },
      "execution_count": null,
      "outputs": [
        {
          "output_type": "stream",
          "name": "stdout",
          "text": [
            "Random Forest Test Set Classification Report:\n",
            "               precision    recall  f1-score   support\n",
            "\n",
            "           0       1.00      1.00      1.00     56864\n",
            "           1       0.84      0.83      0.83        98\n",
            "\n",
            "    accuracy                           1.00     56962\n",
            "   macro avg       0.92      0.91      0.92     56962\n",
            "weighted avg       1.00      1.00      1.00     56962\n",
            "\n",
            "Random Forest Test Set ROC-AUC Score: 0.9712937527993752\n"
          ]
        },
        {
          "output_type": "display_data",
          "data": {
            "text/plain": [
              "<Figure size 640x480 with 2 Axes>"
            ],
            "image/png": "[encoded data removed]"
          },
          "metadata": {}
        },
        {
          "output_type": "display_data",
          "data": {
            "text/plain": [
              "<Figure size 640x480 with 1 Axes>"
            ],
            "image/png": "[encoded data removed]"
          },
          "metadata": {}
        }
      ]
    }
  ]
}